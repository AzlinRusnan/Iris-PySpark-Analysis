{
  "nbformat": 4,
  "nbformat_minor": 0,
  "metadata": {
    "colab": {
      "provenance": [],
      "authorship_tag": "ABX9TyNPsha0iDI7uZLGcSR5Dfr4",
      "include_colab_link": true
    },
    "kernelspec": {
      "name": "python3",
      "display_name": "Python 3"
    },
    "language_info": {
      "name": "python"
    }
  },
  "cells": [
    {
      "cell_type": "markdown",
      "metadata": {
        "id": "view-in-github",
        "colab_type": "text"
      },
      "source": [
        "<a href=\"https://colab.research.google.com/github/AzlinRusnan/Iris-PySpark-Analysis/blob/main/Iris_PySpark_Analysis.ipynb\" target=\"_parent\"><img src=\"https://colab.research.google.com/assets/colab-badge.svg\" alt=\"Open In Colab\"/></a>"
      ]
    },
    {
      "cell_type": "code",
      "source": [
        "!pip install pyspark"
      ],
      "metadata": {
        "colab": {
          "base_uri": "https://localhost:8080/"
        },
        "id": "U67uUnjtwj5x",
        "outputId": "8cab890e-e570-4768-fe9d-1b319b1457a6"
      },
      "execution_count": 2,
      "outputs": [
        {
          "output_type": "stream",
          "name": "stdout",
          "text": [
            "Collecting pyspark\n",
            "  Downloading pyspark-3.5.1.tar.gz (317.0 MB)\n",
            "\u001b[2K     \u001b[90m━━━━━━━━━━━━━━━━━━━━━━━━━━━━━━━━━━━━━━━━\u001b[0m \u001b[32m317.0/317.0 MB\u001b[0m \u001b[31m4.6 MB/s\u001b[0m eta \u001b[36m0:00:00\u001b[0m\n",
            "\u001b[?25h  Preparing metadata (setup.py) ... \u001b[?25l\u001b[?25hdone\n",
            "Requirement already satisfied: py4j==0.10.9.7 in /usr/local/lib/python3.10/dist-packages (from pyspark) (0.10.9.7)\n",
            "Building wheels for collected packages: pyspark\n",
            "  Building wheel for pyspark (setup.py) ... \u001b[?25l\u001b[?25hdone\n",
            "  Created wheel for pyspark: filename=pyspark-3.5.1-py2.py3-none-any.whl size=317488491 sha256=fbc3dfa2f70de045dac974ce4dd87801b44693f944d211bba36df348e5bf17b3\n",
            "  Stored in directory: /root/.cache/pip/wheels/80/1d/60/2c256ed38dddce2fdd93be545214a63e02fbd8d74fb0b7f3a6\n",
            "Successfully built pyspark\n",
            "Installing collected packages: pyspark\n",
            "Successfully installed pyspark-3.5.1\n"
          ]
        }
      ]
    },
    {
      "cell_type": "code",
      "source": [
        "from google.colab import drive\n",
        "drive.mount('/content/gdrive')"
      ],
      "metadata": {
        "colab": {
          "base_uri": "https://localhost:8080/"
        },
        "id": "jTxPZgXGxcIB",
        "outputId": "cb572f18-ff33-4769-9571-a4b3ae76f181"
      },
      "execution_count": 5,
      "outputs": [
        {
          "output_type": "stream",
          "name": "stdout",
          "text": [
            "Mounted at /content/gdrive\n"
          ]
        }
      ]
    },
    {
      "cell_type": "code",
      "execution_count": 3,
      "metadata": {
        "id": "rfqXHiFqu4uW"
      },
      "outputs": [],
      "source": [
        "from pyspark.sql import SparkSession\n",
        "from pyspark import SparkContext, SparkConf\n",
        "from pyspark.ml.feature import StringIndexer, VectorAssembler\n",
        "from pyspark.ml.classification import RandomForestClassifier\n",
        "from pyspark.ml.evaluation import MulticlassClassificationEvaluator\n",
        "from pyspark.ml.tuning import CrossValidator, ParamGridBuilder"
      ]
    },
    {
      "cell_type": "code",
      "source": [
        "import matplotlib.pyplot as plt\n",
        "import seaborn as sns\n",
        "import pandas as pd"
      ],
      "metadata": {
        "id": "bis-6_ppx9Ud"
      },
      "execution_count": 8,
      "outputs": []
    },
    {
      "cell_type": "code",
      "source": [
        "# Initialize Spark session\n",
        "spark = SparkSession.builder.appName(\"Iris Classification\").getOrCreate()"
      ],
      "metadata": {
        "id": "28PeNqFpw6lk"
      },
      "execution_count": 6,
      "outputs": []
    },
    {
      "cell_type": "code",
      "source": [
        "# Load the Iris dataset from the uploaded file\n",
        "iris_data = spark.read.csv(\"/content/gdrive/MyDrive/Data Management/iris.csv\", header=True, inferSchema=True)"
      ],
      "metadata": {
        "id": "UWKbSooMxr4q"
      },
      "execution_count": 7,
      "outputs": []
    },
    {
      "cell_type": "code",
      "source": [
        "# Rename columns to match feature names\n",
        "iris_data = iris_data.withColumnRenamed(\"Sepal.Length\", \"sepalLength\")\\\n",
        "                     .withColumnRenamed(\"Sepal.Width\", \"sepalWidth\")\\\n",
        "                     .withColumnRenamed(\"Petal.Length\", \"petalLength\")\\\n",
        "                     .withColumnRenamed(\"Petal.Width\", \"petalWidth\")\\\n",
        "                     .withColumnRenamed(\"Species\", \"label\")\n",
        "\n",
        "# Index labels (convert string labels to numeric)\n",
        "indexer = StringIndexer(inputCol=\"label\", outputCol=\"indexedLabel\")\n",
        "iris_data = indexer.fit(iris_data).transform(iris_data)\n",
        "\n",
        "# Assemble features into a feature vector\n",
        "assembler = VectorAssembler(inputCols=[\"sepalLength\", \"sepalWidth\", \"petalLength\", \"petalWidth\"], outputCol=\"features\")\n",
        "iris_data = assembler.transform(iris_data)\n",
        "\n",
        "# Split the dataset into training and testing sets\n",
        "train_data, test_data = iris_data.randomSplit([0.8, 0.2], seed=42)\n",
        "\n",
        "# Select a classification algorithm: Random Forest\n",
        "rf = RandomForestClassifier(labelCol=\"indexedLabel\", featuresCol=\"features\")\n",
        "\n",
        "# Define a grid of hyperparameters to search over\n",
        "paramGrid = ParamGridBuilder()\\\n",
        "    .addGrid(rf.numTrees, [10, 20, 30])\\\n",
        "    .addGrid(rf.maxDepth, [5, 10, 15])\\\n",
        "    .build()\n",
        "\n",
        "# Use cross-validation to tune hyperparameters\n",
        "crossval = CrossValidator(estimator=rf,\n",
        "                          estimatorParamMaps=paramGrid,\n",
        "                          evaluator=MulticlassClassificationEvaluator(labelCol=\"indexedLabel\", metricName=\"accuracy\"),\n",
        "                          numFolds=5)\n",
        "\n",
        "# Fit the model on the training data\n",
        "cv_model = crossval.fit(train_data)\n",
        "\n",
        "# Evaluate the model on the test data\n",
        "predictions = cv_model.transform(test_data)\n",
        "\n",
        "# Evaluate the performance of the model\n",
        "evaluator = MulticlassClassificationEvaluator(labelCol=\"indexedLabel\", predictionCol=\"prediction\")\n",
        "accuracy = evaluator.evaluate(predictions, {evaluator.metricName: \"accuracy\"})\n",
        "precision = evaluator.evaluate(predictions, {evaluator.metricName: \"weightedPrecision\"})\n",
        "recall = evaluator.evaluate(predictions, {evaluator.metricName: \"weightedRecall\"})\n",
        "f1 = evaluator.evaluate(predictions, {evaluator.metricName: \"f1\"})\n",
        "\n",
        "print(\"Accuracy: {}\".format(accuracy))\n",
        "print(\"Precision: {}\".format(precision))\n",
        "print(\"Recall: {}\".format(recall))\n",
        "print(\"F1-Score: {}\".format(f1))\n",
        "\n",
        "# Collect predictions to a pandas DataFrame for visualization\n",
        "preds_df = predictions.select(\"indexedLabel\", \"prediction\").toPandas()\n",
        "\n",
        "# Confusion Matrix\n",
        "conf_matrix = pd.crosstab(preds_df['indexedLabel'], preds_df['prediction'], rownames=['Actual'], colnames=['Predicted'])\n",
        "\n",
        "# Heatmap\n",
        "plt.figure(figsize=(10, 7))\n",
        "sns.heatmap(conf_matrix, annot=True, fmt='d', cmap=\"YlGnBu\")\n",
        "plt.title('Confusion Matrix')\n",
        "plt.show()\n",
        "\n",
        "# Stop the Spark context\n",
        "sc.stop()"
      ],
      "metadata": {
        "colab": {
          "base_uri": "https://localhost:8080/",
          "height": 710
        },
        "id": "V9g-38T2yEqj",
        "outputId": "df63b6b3-7304-4929-98bc-ec2479bf3486"
      },
      "execution_count": 9,
      "outputs": [
        {
          "output_type": "stream",
          "name": "stdout",
          "text": [
            "Accuracy: 1.0\n",
            "Precision: 1.0\n",
            "Recall: 1.0\n",
            "F1-Score: 1.0\n"
          ]
        },
        {
          "output_type": "display_data",
          "data": {
            "text/plain": [
              "<Figure size 1000x700 with 2 Axes>"
            ],
            "image/png": "[encoded data removed]"
          },
          "metadata": {}
        }
      ]
    }
  ]
}